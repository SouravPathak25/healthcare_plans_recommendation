{
 "cells": [
  {
   "cell_type": "code",
   "execution_count": 2,
   "id": "669d6bcc",
   "metadata": {},
   "outputs": [
    {
     "name": "stdout",
     "output_type": "stream",
     "text": [
      "Dataset generated and saved to 'health_dataset.csv'.\n"
     ]
    }
   ],
   "source": [
    "import random\n",
    "import pandas as pd\n",
    "\n",
    "genders = [\"Male\", \"Female\"]\n",
    "ages = [random.randint(5, 65) for _ in range(5000)]\n",
    "locations = [\"City\", \"Metro City\", \"Town\"]\n",
    "medications = [\n",
    "    \"Chemotherapy drugs\", \"Immunosuppressants\", \"Anticoagulants\",\n",
    "    \"Insulin\", \"Opioids\", \"Antibiotics\", \"Antihypertensives\",\n",
    "    \"Statins\", \"Antidepressants\", \"Antihistamines\",\n",
    "    \"Over-the-counter pain relievers\", \"Cough and cold medications\",\n",
    "    \"Allergy medications\", \"Digestive aids\", \"Vitamins and supplements\"\n",
    "]\n",
    "diseases = [\n",
    "    \"Stroke\", \"Heart disease\", \"Diabetes\", \"Chronic obstructive pulmonary disease (COPD)\",\n",
    "    \"Cancer\", \"Arthritis\", \"Asthma\", \"Alzheimer's disease\", \"Depression\",\n",
    "    \"Kidney disease\", \"Common cold\", \"Flu\", \"Bronchitis\", \"Sinusitis\", \"Ear infection\"\n",
    "]\n",
    "\n",
    "# Create an empty list to store the data\n",
    "data = []\n",
    "\n",
    "# Generate data for 5000 people\n",
    "for _ in range(5000):\n",
    "    person = {\n",
    "        \"Gender\": random.choice(genders),\n",
    "        \"Age\": random.choice(ages),\n",
    "        \"Location\": random.choice(locations),\n",
    "        \"Medication\": random.choice(medications),\n",
    "        \"Existing Illness\": random.choice(diseases),\n",
    "        \"Previous Illness\": random.choice(diseases)\n",
    "    }\n",
    "    data.append(person)\n",
    "\n",
    "# Create a DataFrame from the data\n",
    "df = pd.DataFrame(data)\n",
    "\n",
    "df.to_csv(\"health_dataset.csv\", index=False)\n",
    "\n",
    "print(\"Dataset generated and saved to 'health_dataset.csv'.\")\n"
   ]
  }
 ],
 "metadata": {
  "kernelspec": {
   "display_name": "Python 3 (ipykernel)",
   "language": "python",
   "name": "python3"
  },
  "language_info": {
   "codemirror_mode": {
    "name": "ipython",
    "version": 3
   },
   "file_extension": ".py",
   "mimetype": "text/x-python",
   "name": "python",
   "nbconvert_exporter": "python",
   "pygments_lexer": "ipython3",
   "version": "3.9.13"
  }
 },
 "nbformat": 4,
 "nbformat_minor": 5
}
